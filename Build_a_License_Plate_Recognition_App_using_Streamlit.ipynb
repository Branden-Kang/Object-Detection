{
  "nbformat": 4,
  "nbformat_minor": 0,
  "metadata": {
    "colab": {
      "provenance": [],
      "authorship_tag": "ABX9TyM9KWlh6KUtJtLLDBBNlbGn"
    },
    "kernelspec": {
      "name": "python3",
      "display_name": "Python 3"
    },
    "language_info": {
      "name": "python"
    }
  },
  "cells": [
    {
      "cell_type": "markdown",
      "source": [
        "[Reference](https://pub.towardsai.net/build-a-license-plate-recognition-app-using-streamlit-e9982fa6fd6e)"
      ],
      "metadata": {
        "id": "iTzgntTXHUNj"
      }
    },
    {
      "cell_type": "markdown",
      "source": [
        "# Detect the License Plate closest to the camera"
      ],
      "metadata": {
        "id": "JbFlgCKtHg60"
      }
    },
    {
      "cell_type": "code",
      "execution_count": 1,
      "metadata": {
        "id": "9sDXKWyvFvHH"
      },
      "outputs": [],
      "source": [
        "import yolov5\n",
        "import torch\n",
        "\n",
        "\n",
        "def inference(\n",
        "    path2img: str,\n",
        "    show_img: bool = False,\n",
        "    size_img: int = 640,\n",
        "    nms_conf_thresh: float = 0.7,\n",
        "    max_detect: int = 10,\n",
        ") -> torch.Tensor:\n",
        "\n",
        "    model = yolov5.load(\"keremberke/yolov5m-license-plate\")\n",
        "\n",
        "    model.conf = nms_conf_thresh\n",
        "    model.iou = 0.45\n",
        "    model.agnostic = False\n",
        "    model.multi_label = False\n",
        "    model.max_det = max_detect\n",
        "\n",
        "    results = model(path2img, size=size_img)\n",
        "    results = model(path2img, augment=True)\n",
        "\n",
        "    if show_img:\n",
        "        results.show()\n",
        "\n",
        "    return results.pred[0]"
      ]
    },
    {
      "cell_type": "markdown",
      "source": [
        "# Use easyocr or tesseract to extract text"
      ],
      "metadata": {
        "id": "HoG804FDHi7C"
      }
    },
    {
      "cell_type": "code",
      "source": [
        "import pytesseract\n",
        "\n",
        "def ocr_tesseract(path2img):\n",
        "    text = pytesseract.image_to_string(\n",
        "        path2img,\n",
        "        lang=\"eng\",\n",
        "        config=\"--oem 3 --psm 6 -c tessedit_char_whitelist=ABCDEFGHIJKLMNOPQRSTUVWXYZ0123456789\",\n",
        "    )\n",
        "    return text"
      ],
      "metadata": {
        "id": "0L__ubAwHZWs"
      },
      "execution_count": 2,
      "outputs": []
    },
    {
      "cell_type": "code",
      "source": [
        "def ocr_easyocr(path2img):\n",
        "    image = cv2.imread(path2img)\n",
        "\n",
        "    reader = easyocr.Reader([\"en\"], gpu=False)\n",
        "    detections = reader.readtext(image)\n",
        "\n",
        "    plate_no = []\n",
        "    [plate_no.append(line[1]) for line in detections]\n",
        "\n",
        "    return \"\".join(plate_no)"
      ],
      "metadata": {
        "id": "I9YnKVOnHkjd"
      },
      "execution_count": 3,
      "outputs": []
    },
    {
      "cell_type": "markdown",
      "source": [
        "# Build an app to take an image as input and then output a string"
      ],
      "metadata": {
        "id": "4KfW58e6Hqh7"
      }
    },
    {
      "cell_type": "code",
      "source": [
        "import streamlit as st\n",
        "\n",
        "def app():\n",
        "    st.header(\"License Plate Recognition Web App\")\n",
        "    st.subheader(\"Powered by YOLOv5\")\n",
        "    st.write(\"Welcome!\")\n",
        "\n",
        "    # add file uploader\n",
        "    with st.form(\"my_uploader\"):\n",
        "        uploaded_file = st.file_uploader(\n",
        "            \"Upload image\", type=[\"png\", \"jpg\", \"jpeg\"], accept_multiple_files=False\n",
        "        )\n",
        "        submit = st.form_submit_button(label=\"Upload\")\n",
        "\n",
        "    if uploaded_file is not None:\n",
        "        # save uploaded image\n",
        "        save_path = os.path.join(\"temp\", uploaded_file.name)\n",
        "        with open(save_path, \"wb\") as f:\n",
        "            f.write(uploaded_file.getbuffer())\n",
        "\n",
        "    if submit:\n",
        "        # display license plate as text\n",
        "        text = run_license_plate_recognition(save_path).recognize_text()\n",
        "        st.write(f\"Detected License Plate Number: {text}\")\n",
        "\n",
        "\n",
        "if __name__ == \"__main__\":\n",
        "    app()"
      ],
      "metadata": {
        "id": "AmJTY6RPHomq"
      },
      "execution_count": 4,
      "outputs": []
    }
  ]
}